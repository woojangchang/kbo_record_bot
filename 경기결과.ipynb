{
 "cells": [
  {
   "cell_type": "code",
   "execution_count": 1,
   "id": "5e7e2ddd",
   "metadata": {
    "ExecuteTime": {
     "end_time": "2024-02-20T06:58:55.925343Z",
     "start_time": "2024-02-20T06:58:55.911546Z"
    }
   },
   "outputs": [],
   "source": [
    "from bs4 import BeautifulSoup\n",
    "import requests\n",
    "from datetime import datetime, timedelta\n",
    "import re\n",
    "import pandas as pd\n",
    "\n",
    "now = datetime.now()\n",
    "today = f'{now.year}.{now.month}.{now.day}'"
   ]
  },
  {
   "cell_type": "code",
   "execution_count": 2,
   "id": "ff59da64",
   "metadata": {
    "ExecuteTime": {
     "end_time": "2024-02-20T07:59:54.279627Z",
     "start_time": "2024-02-20T07:59:54.255512Z"
    }
   },
   "outputs": [],
   "source": [
    "\n",
    "\n",
    "class KBOResultBot:\n",
    "    \n",
    "    def __init__(self, date, team='롯데'):\n",
    "        self.date = self.convert_to_yyyy_mm_dd(date)\n",
    "        self.team = team\n",
    "        \n",
    "    def convert_to_yyyy_mm_dd(self, date_str):\n",
    "        if date_str == '오늘':\n",
    "            return datetime.now().strftime(\"%Y-%m-%d\")\n",
    "        \n",
    "        formats = [\"%Y년 %m월 %d일\", \"%Y/%m/%d\", \"%Y-%m-%d\", \"%Y %m %d\", \"%Y.%m.%d\", \"%Y.%m.%d\",\n",
    "                   \"%y년 %m월 %d일\", \"%y/%m/%d\", \"%y-%m-%d\", \"%y %m %d\", \"%y.%m.%d\", \"%y.%m.%d\",\n",
    "                  ]\n",
    "\n",
    "        for fmt in formats:\n",
    "            try:\n",
    "                date_obj = datetime.strptime(date_str, fmt)\n",
    "                return date_obj.strftime(\"%Y-%m-%d\")\n",
    "            except ValueError:\n",
    "                pass\n",
    "\n",
    "        return \"날짜 형식을 인식할 수 없습니다.\"\n",
    "        \n",
    "    def extract_stadium(self):\n",
    "        if self.date == \"날짜 형식을 인식할 수 없습니다.\":\n",
    "            return \"날짜 형식을 인식할 수 없습니다.\"\n",
    "        \n",
    "        url = f'http://www.statiz.co.kr/boxscore.php?date={self.date}'\n",
    "        r = requests.get(url).text\n",
    "        soup = BeautifulSoup(r, 'lxml')\n",
    "\n",
    "        boxes = soup.find_all(\"div\", \"box\")\n",
    "        for box in boxes:\n",
    "            if self.team in box.text:\n",
    "                if '우천취소' in box.text:\n",
    "                    return '우천취소'\n",
    "\n",
    "                pattern = r'\\((.*?)\\)'\n",
    "                match = re.search(pattern, box.find(\"h3\", \"box-title\").text)\n",
    "                if match:\n",
    "                    stadium = match.group(1).replace(' ', '+')\n",
    "                    return stadium\n",
    "                \n",
    "    def table(self):\n",
    "        stadium = self.extract_stadium()\n",
    "        if stadium == '우천취소':\n",
    "            return '우천취소'\n",
    "        elif stadium == \"날짜 형식을 인식할 수 없습니다.\":\n",
    "            return \"날짜 형식을 인식할 수 없습니다.\"\n",
    "        url = f\"http://www.statiz.co.kr/boxscore.php?date={self.date}&stadium={stadium}\"\n",
    "\n",
    "        r = requests.get(url).text\n",
    "        soup = BeautifulSoup(r, 'lxml')\n",
    "\n",
    "        boxes = soup.find_all(\"div\", \"box\")\n",
    "        if len(boxes) < 3:\n",
    "            return \"경기가 없습니다.\"\n",
    "\n",
    "        columns = [box.text for box in boxes[2].find_all('th')]\n",
    "        team1 = []\n",
    "        team2 = []\n",
    "        \n",
    "        for td in boxes[2].find_all('tr')[1].find_all('td'):\n",
    "            for span in td.find_all('span'):\n",
    "                span.extract()  # <span> 태그 제거\n",
    "            text = td.get_text(strip=True)  # 텍스트 부분 추출\n",
    "            team1.append(text)\n",
    "\n",
    "\n",
    "        for td in boxes[2].find_all('tr')[2].find_all('td'):\n",
    "            for span in td.find_all('span'):\n",
    "                span.extract()  # <span> 태그 제거\n",
    "            text = td.get_text(strip=True)  # 텍스트 부분 추출\n",
    "            team2.append(text)\n",
    "\n",
    "        return pd.DataFrame([team1, team2], columns=columns).set_index('팀').T"
   ]
  },
  {
   "cell_type": "code",
   "execution_count": 3,
   "id": "a14a7de0",
   "metadata": {
    "ExecuteTime": {
     "end_time": "2024-02-20T07:59:58.099168Z",
     "start_time": "2024-02-20T07:59:58.087972Z"
    }
   },
   "outputs": [
    {
     "data": {
      "text/plain": [
       "'경기가 없습니다.'"
      ]
     },
     "execution_count": 3,
     "metadata": {},
     "output_type": "execute_result"
    }
   ],
   "source": [
    "KBOResultBot('오늘').table()"
   ]
  },
  {
   "cell_type": "code",
   "execution_count": 4,
   "id": "ccd29136",
   "metadata": {
    "ExecuteTime": {
     "end_time": "2024-02-20T08:00:08.840138Z",
     "start_time": "2024-02-20T08:00:08.831389Z"
    }
   },
   "outputs": [
    {
     "data": {
      "text/html": [
       "<div>\n",
       "<style scoped>\n",
       "    .dataframe tbody tr th:only-of-type {\n",
       "        vertical-align: middle;\n",
       "    }\n",
       "\n",
       "    .dataframe tbody tr th {\n",
       "        vertical-align: top;\n",
       "    }\n",
       "\n",
       "    .dataframe thead th {\n",
       "        text-align: right;\n",
       "    }\n",
       "</style>\n",
       "<table border=\"1\" class=\"dataframe\">\n",
       "  <thead>\n",
       "    <tr style=\"text-align: right;\">\n",
       "      <th>팀</th>\n",
       "      <th>KT</th>\n",
       "      <th>롯데</th>\n",
       "    </tr>\n",
       "  </thead>\n",
       "  <tbody>\n",
       "    <tr>\n",
       "      <th>1</th>\n",
       "      <td>1</td>\n",
       "      <td>0</td>\n",
       "    </tr>\n",
       "    <tr>\n",
       "      <th>2</th>\n",
       "      <td>0</td>\n",
       "      <td>0</td>\n",
       "    </tr>\n",
       "    <tr>\n",
       "      <th>3</th>\n",
       "      <td>1</td>\n",
       "      <td>0</td>\n",
       "    </tr>\n",
       "    <tr>\n",
       "      <th>4</th>\n",
       "      <td>2</td>\n",
       "      <td>0</td>\n",
       "    </tr>\n",
       "    <tr>\n",
       "      <th>5</th>\n",
       "      <td>1</td>\n",
       "      <td>0</td>\n",
       "    </tr>\n",
       "    <tr>\n",
       "      <th>6</th>\n",
       "      <td>0</td>\n",
       "      <td>0</td>\n",
       "    </tr>\n",
       "    <tr>\n",
       "      <th>7</th>\n",
       "      <td>0</td>\n",
       "      <td>5</td>\n",
       "    </tr>\n",
       "    <tr>\n",
       "      <th>8</th>\n",
       "      <td>0</td>\n",
       "      <td>0</td>\n",
       "    </tr>\n",
       "    <tr>\n",
       "      <th>9</th>\n",
       "      <td>1</td>\n",
       "      <td>1</td>\n",
       "    </tr>\n",
       "    <tr>\n",
       "      <th>10</th>\n",
       "      <td>0</td>\n",
       "      <td>0</td>\n",
       "    </tr>\n",
       "    <tr>\n",
       "      <th>11</th>\n",
       "      <td>0</td>\n",
       "      <td>0</td>\n",
       "    </tr>\n",
       "    <tr>\n",
       "      <th>12</th>\n",
       "      <td>1</td>\n",
       "      <td>0</td>\n",
       "    </tr>\n",
       "    <tr>\n",
       "      <th>R</th>\n",
       "      <td>7</td>\n",
       "      <td>6</td>\n",
       "    </tr>\n",
       "  </tbody>\n",
       "</table>\n",
       "</div>"
      ],
      "text/plain": [
       "팀  KT 롯데\n",
       "1   1  0\n",
       "2   0  0\n",
       "3   1  0\n",
       "4   2  0\n",
       "5   1  0\n",
       "6   0  0\n",
       "7   0  5\n",
       "8   0  0\n",
       "9   1  1\n",
       "10  0  0\n",
       "11  0  0\n",
       "12  1  0\n",
       "R   7  6"
      ]
     },
     "execution_count": 4,
     "metadata": {},
     "output_type": "execute_result"
    }
   ],
   "source": [
    "KBOResultBot('23 6 8').table()"
   ]
  },
  {
   "cell_type": "code",
   "execution_count": 5,
   "id": "344fddbc",
   "metadata": {},
   "outputs": [
    {
     "data": {
      "text/plain": [
       "'우천취소'"
      ]
     },
     "execution_count": 5,
     "metadata": {},
     "output_type": "execute_result"
    }
   ],
   "source": [
    "KBOResultBot('23 4 5').table()"
   ]
  },
  {
   "cell_type": "code",
   "execution_count": null,
   "id": "1bf7cacb",
   "metadata": {},
   "outputs": [],
   "source": []
  }
 ],
 "metadata": {
  "kernelspec": {
   "display_name": "Python 3.9",
   "language": "python",
   "name": "py39"
  },
  "language_info": {
   "codemirror_mode": {
    "name": "ipython",
    "version": 3
   },
   "file_extension": ".py",
   "mimetype": "text/x-python",
   "name": "python",
   "nbconvert_exporter": "python",
   "pygments_lexer": "ipython3",
   "version": "3.9.12"
  },
  "toc": {
   "base_numbering": 1,
   "nav_menu": {},
   "number_sections": false,
   "sideBar": true,
   "skip_h1_title": false,
   "title_cell": "Table of Contents",
   "title_sidebar": "Contents",
   "toc_cell": false,
   "toc_position": {},
   "toc_section_display": true,
   "toc_window_display": false
  },
  "varInspector": {
   "cols": {
    "lenName": 16,
    "lenType": 16,
    "lenVar": 40
   },
   "kernels_config": {
    "python": {
     "delete_cmd_postfix": "",
     "delete_cmd_prefix": "del ",
     "library": "var_list.py",
     "varRefreshCmd": "print(var_dic_list())"
    },
    "r": {
     "delete_cmd_postfix": ") ",
     "delete_cmd_prefix": "rm(",
     "library": "var_list.r",
     "varRefreshCmd": "cat(var_dic_list()) "
    }
   },
   "types_to_exclude": [
    "module",
    "function",
    "builtin_function_or_method",
    "instance",
    "_Feature"
   ],
   "window_display": false
  }
 },
 "nbformat": 4,
 "nbformat_minor": 5
}
